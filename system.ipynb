{
 "cells": [
  {
   "cell_type": "code",
   "execution_count": 8,
   "id": "fcf67bef",
   "metadata": {},
   "outputs": [],
   "source": [
    "import pandas as pd\n",
    "import altair as alt\n",
    "from collections import Counter\n",
    "from skea"
   ]
  },
  {
   "cell_type": "code",
   "execution_count": 31,
   "id": "4d1bf7c9",
   "metadata": {},
   "outputs": [
    {
     "name": "stdout",
     "output_type": "stream",
     "text": [
      "Collecting vega_datasets\n",
      "  Downloading vega_datasets-0.9.0-py3-none-any.whl (210 kB)\n",
      "     -------------------------------------- 210.8/210.8 kB 4.3 MB/s eta 0:00:00\n",
      "Requirement already satisfied: pandas in d:\\anaconda3\\envs\\datamining\\lib\\site-packages (from vega_datasets) (1.3.2)\n",
      "Requirement already satisfied: pytz>=2017.3 in d:\\anaconda3\\envs\\datamining\\lib\\site-packages (from pandas->vega_datasets) (2021.1)\n",
      "Requirement already satisfied: numpy>=1.17.3 in d:\\anaconda3\\envs\\datamining\\lib\\site-packages (from pandas->vega_datasets) (1.23.4)\n",
      "Requirement already satisfied: python-dateutil>=2.7.3 in d:\\anaconda3\\envs\\datamining\\lib\\site-packages (from pandas->vega_datasets) (2.8.2)\n",
      "Requirement already satisfied: six>=1.5 in d:\\anaconda3\\envs\\datamining\\lib\\site-packages (from python-dateutil>=2.7.3->pandas->vega_datasets) (1.16.0)\n",
      "Installing collected packages: vega_datasets\n",
      "Successfully installed vega_datasets-0.9.0\n"
     ]
    },
    {
     "name": "stderr",
     "output_type": "stream",
     "text": [
      "WARNING: Ignoring invalid distribution -ip (d:\\anaconda3\\envs\\datamining\\lib\\site-packages)\n",
      "WARNING: Ignoring invalid distribution -ip (d:\\anaconda3\\envs\\datamining\\lib\\site-packages)\n",
      "WARNING: Ignoring invalid distribution -ip (d:\\anaconda3\\envs\\datamining\\lib\\site-packages)\n",
      "WARNING: Ignoring invalid distribution -ip (d:\\anaconda3\\envs\\datamining\\lib\\site-packages)\n",
      "WARNING: Ignoring invalid distribution -ip (d:\\anaconda3\\envs\\datamining\\lib\\site-packages)\n",
      "WARNING: Ignoring invalid distribution -ip (d:\\anaconda3\\envs\\datamining\\lib\\site-packages)\n",
      "WARNING: Ignoring invalid distribution -ip (d:\\anaconda3\\envs\\datamining\\lib\\site-packages)\n"
     ]
    }
   ],
   "source": [
    "!pip install vega_datasets"
   ]
  },
  {
   "cell_type": "code",
   "execution_count": 3,
   "id": "03190e6d",
   "metadata": {},
   "outputs": [],
   "source": [
    "df = pd.read_csv('iris.data',sep=',',header=None,names=['sepal_length','sepal_width','petal_length','petal_width','class'],dtype = str)"
   ]
  },
  {
   "cell_type": "code",
   "execution_count": 4,
   "id": "d4abc5f4",
   "metadata": {},
   "outputs": [
    {
     "data": {
      "text/plain": [
       "Counter({'Iris-setosa': 50, 'Iris-versicolor': 50, 'Iris-virginica': 50})"
      ]
     },
     "execution_count": 4,
     "metadata": {},
     "output_type": "execute_result"
    }
   ],
   "source": [
    "Counter(df['class'])"
   ]
  },
  {
   "cell_type": "code",
   "execution_count": 66,
   "id": "36d90cb5",
   "metadata": {},
   "outputs": [
    {
     "data": {
      "text/html": [
       "\n",
       "<div id=\"altair-viz-904763c270bd412bb618f6a7a34bcb9e\"></div>\n",
       "<script type=\"text/javascript\">\n",
       "  var VEGA_DEBUG = (typeof VEGA_DEBUG == \"undefined\") ? {} : VEGA_DEBUG;\n",
       "  (function(spec, embedOpt){\n",
       "    let outputDiv = document.currentScript.previousElementSibling;\n",
       "    if (outputDiv.id !== \"altair-viz-904763c270bd412bb618f6a7a34bcb9e\") {\n",
       "      outputDiv = document.getElementById(\"altair-viz-904763c270bd412bb618f6a7a34bcb9e\");\n",
       "    }\n",
       "    const paths = {\n",
       "      \"vega\": \"https://cdn.jsdelivr.net/npm/vega@5?noext\",\n",
       "      \"vega-lib\": \"https://cdn.jsdelivr.net/npm/vega-lib?noext\",\n",
       "      \"vega-lite\": \"https://cdn.jsdelivr.net/npm/vega-lite@5.6.1?noext\",\n",
       "      \"vega-embed\": \"https://cdn.jsdelivr.net/npm/vega-embed@6?noext\",\n",
       "    };\n",
       "\n",
       "    function maybeLoadScript(lib, version) {\n",
       "      var key = `${lib.replace(\"-\", \"\")}_version`;\n",
       "      return (VEGA_DEBUG[key] == version) ?\n",
       "        Promise.resolve(paths[lib]) :\n",
       "        new Promise(function(resolve, reject) {\n",
       "          var s = document.createElement('script');\n",
       "          document.getElementsByTagName(\"head\")[0].appendChild(s);\n",
       "          s.async = true;\n",
       "          s.onload = () => {\n",
       "            VEGA_DEBUG[key] = version;\n",
       "            return resolve(paths[lib]);\n",
       "          };\n",
       "          s.onerror = () => reject(`Error loading script: ${paths[lib]}`);\n",
       "          s.src = paths[lib];\n",
       "        });\n",
       "    }\n",
       "\n",
       "    function showError(err) {\n",
       "      outputDiv.innerHTML = `<div class=\"error\" style=\"color:red;\">${err}</div>`;\n",
       "      throw err;\n",
       "    }\n",
       "\n",
       "    function displayChart(vegaEmbed) {\n",
       "      vegaEmbed(outputDiv, spec, embedOpt)\n",
       "        .catch(err => showError(`Javascript Error: ${err.message}<br>This usually means there's a typo in your chart specification. See the javascript console for the full traceback.`));\n",
       "    }\n",
       "\n",
       "    if(typeof define === \"function\" && define.amd) {\n",
       "      requirejs.config({paths});\n",
       "      require([\"vega-embed\"], displayChart, err => showError(`Error loading script: ${err.message}`));\n",
       "    } else {\n",
       "      maybeLoadScript(\"vega\", \"5\")\n",
       "        .then(() => maybeLoadScript(\"vega-lite\", \"5.6.1\"))\n",
       "        .then(() => maybeLoadScript(\"vega-embed\", \"6\"))\n",
       "        .catch(showError)\n",
       "        .then(() => displayChart(vegaEmbed));\n",
       "    }\n",
       "  })({\"config\": {\"view\": {\"continuousWidth\": 300, \"continuousHeight\": 300}}, \"data\": {\"name\": \"data-0ca1e83e7928eb3af86a9a5b261ae25d\"}, \"mark\": {\"type\": \"line\"}, \"encoding\": {\"color\": {\"field\": \"class\", \"type\": \"nominal\"}, \"detail\": {\"field\": \"index\", \"type\": \"nominal\"}, \"opacity\": {\"value\": 0.5}, \"x\": {\"field\": \"key\", \"type\": \"nominal\"}, \"y\": {\"field\": \"value\", \"type\": \"quantitative\"}}, \"transform\": [{\"window\": [{\"op\": \"count\", \"as\": \"index\"}]}, {\"fold\": [\"petal_length\", \"petal_width\", \"sepal_length\", \"sepal_width\"]}], \"width\": 500, \"$schema\": \"https://vega.github.io/schema/vega-lite/v5.6.1.json\", \"datasets\": {\"data-0ca1e83e7928eb3af86a9a5b261ae25d\": [{\"sepal_length\": \"5.1\", \"sepal_width\": \"3.5\", \"petal_length\": \"1.4\", \"petal_width\": \"0.2\", \"class\": \"Iris-setosa\"}, {\"sepal_length\": \"4.9\", \"sepal_width\": \"3.0\", \"petal_length\": \"1.4\", \"petal_width\": \"0.2\", \"class\": \"Iris-setosa\"}, {\"sepal_length\": \"4.7\", \"sepal_width\": \"3.2\", \"petal_length\": \"1.3\", \"petal_width\": \"0.2\", \"class\": \"Iris-setosa\"}, {\"sepal_length\": \"4.6\", \"sepal_width\": \"3.1\", \"petal_length\": \"1.5\", \"petal_width\": \"0.2\", \"class\": \"Iris-setosa\"}, {\"sepal_length\": \"5.0\", \"sepal_width\": \"3.6\", \"petal_length\": \"1.4\", \"petal_width\": \"0.2\", \"class\": \"Iris-setosa\"}, {\"sepal_length\": \"5.4\", \"sepal_width\": \"3.9\", \"petal_length\": \"1.7\", \"petal_width\": \"0.4\", \"class\": \"Iris-setosa\"}, {\"sepal_length\": \"4.6\", \"sepal_width\": \"3.4\", \"petal_length\": \"1.4\", \"petal_width\": \"0.3\", \"class\": \"Iris-setosa\"}, {\"sepal_length\": \"5.0\", \"sepal_width\": \"3.4\", \"petal_length\": \"1.5\", \"petal_width\": \"0.2\", \"class\": \"Iris-setosa\"}, {\"sepal_length\": \"4.4\", \"sepal_width\": \"2.9\", \"petal_length\": \"1.4\", \"petal_width\": \"0.2\", \"class\": \"Iris-setosa\"}, {\"sepal_length\": \"4.9\", \"sepal_width\": \"3.1\", \"petal_length\": \"1.5\", \"petal_width\": \"0.1\", \"class\": \"Iris-setosa\"}, {\"sepal_length\": \"5.4\", \"sepal_width\": \"3.7\", \"petal_length\": \"1.5\", \"petal_width\": \"0.2\", \"class\": \"Iris-setosa\"}, {\"sepal_length\": \"4.8\", \"sepal_width\": \"3.4\", \"petal_length\": \"1.6\", \"petal_width\": \"0.2\", \"class\": \"Iris-setosa\"}, {\"sepal_length\": \"4.8\", \"sepal_width\": \"3.0\", \"petal_length\": \"1.4\", \"petal_width\": \"0.1\", \"class\": \"Iris-setosa\"}, {\"sepal_length\": \"4.3\", \"sepal_width\": \"3.0\", \"petal_length\": \"1.1\", \"petal_width\": \"0.1\", \"class\": \"Iris-setosa\"}, {\"sepal_length\": \"5.8\", \"sepal_width\": \"4.0\", \"petal_length\": \"1.2\", \"petal_width\": \"0.2\", \"class\": \"Iris-setosa\"}, {\"sepal_length\": \"5.7\", \"sepal_width\": \"4.4\", \"petal_length\": \"1.5\", \"petal_width\": \"0.4\", \"class\": \"Iris-setosa\"}, {\"sepal_length\": \"5.4\", \"sepal_width\": \"3.9\", \"petal_length\": \"1.3\", \"petal_width\": \"0.4\", \"class\": \"Iris-setosa\"}, {\"sepal_length\": \"5.1\", \"sepal_width\": \"3.5\", \"petal_length\": \"1.4\", \"petal_width\": \"0.3\", \"class\": \"Iris-setosa\"}, {\"sepal_length\": \"5.7\", \"sepal_width\": \"3.8\", \"petal_length\": \"1.7\", \"petal_width\": \"0.3\", \"class\": \"Iris-setosa\"}, {\"sepal_length\": \"5.1\", \"sepal_width\": \"3.8\", \"petal_length\": \"1.5\", \"petal_width\": \"0.3\", \"class\": \"Iris-setosa\"}, {\"sepal_length\": \"5.4\", \"sepal_width\": \"3.4\", \"petal_length\": \"1.7\", \"petal_width\": \"0.2\", \"class\": \"Iris-setosa\"}, {\"sepal_length\": \"5.1\", \"sepal_width\": \"3.7\", \"petal_length\": \"1.5\", \"petal_width\": \"0.4\", \"class\": \"Iris-setosa\"}, {\"sepal_length\": \"4.6\", \"sepal_width\": \"3.6\", \"petal_length\": \"1.0\", \"petal_width\": \"0.2\", \"class\": \"Iris-setosa\"}, {\"sepal_length\": \"5.1\", \"sepal_width\": \"3.3\", \"petal_length\": \"1.7\", \"petal_width\": \"0.5\", \"class\": \"Iris-setosa\"}, {\"sepal_length\": \"4.8\", \"sepal_width\": \"3.4\", \"petal_length\": \"1.9\", \"petal_width\": \"0.2\", \"class\": \"Iris-setosa\"}, {\"sepal_length\": \"5.0\", \"sepal_width\": \"3.0\", \"petal_length\": \"1.6\", \"petal_width\": \"0.2\", \"class\": \"Iris-setosa\"}, {\"sepal_length\": \"5.0\", \"sepal_width\": \"3.4\", \"petal_length\": \"1.6\", \"petal_width\": \"0.4\", \"class\": \"Iris-setosa\"}, {\"sepal_length\": \"5.2\", \"sepal_width\": \"3.5\", \"petal_length\": \"1.5\", \"petal_width\": \"0.2\", \"class\": \"Iris-setosa\"}, {\"sepal_length\": \"5.2\", \"sepal_width\": \"3.4\", \"petal_length\": \"1.4\", \"petal_width\": \"0.2\", \"class\": \"Iris-setosa\"}, {\"sepal_length\": \"4.7\", \"sepal_width\": \"3.2\", \"petal_length\": \"1.6\", \"petal_width\": \"0.2\", \"class\": \"Iris-setosa\"}, {\"sepal_length\": \"4.8\", \"sepal_width\": \"3.1\", \"petal_length\": \"1.6\", \"petal_width\": \"0.2\", \"class\": \"Iris-setosa\"}, {\"sepal_length\": \"5.4\", \"sepal_width\": \"3.4\", \"petal_length\": \"1.5\", \"petal_width\": \"0.4\", \"class\": \"Iris-setosa\"}, {\"sepal_length\": \"5.2\", \"sepal_width\": \"4.1\", \"petal_length\": \"1.5\", \"petal_width\": \"0.1\", \"class\": \"Iris-setosa\"}, {\"sepal_length\": \"5.5\", \"sepal_width\": \"4.2\", \"petal_length\": \"1.4\", \"petal_width\": \"0.2\", \"class\": \"Iris-setosa\"}, {\"sepal_length\": \"4.9\", \"sepal_width\": \"3.1\", \"petal_length\": \"1.5\", \"petal_width\": \"0.1\", \"class\": \"Iris-setosa\"}, {\"sepal_length\": \"5.0\", \"sepal_width\": \"3.2\", \"petal_length\": \"1.2\", \"petal_width\": \"0.2\", \"class\": \"Iris-setosa\"}, {\"sepal_length\": \"5.5\", \"sepal_width\": \"3.5\", \"petal_length\": \"1.3\", \"petal_width\": \"0.2\", \"class\": \"Iris-setosa\"}, {\"sepal_length\": \"4.9\", \"sepal_width\": \"3.1\", \"petal_length\": \"1.5\", \"petal_width\": \"0.1\", \"class\": \"Iris-setosa\"}, {\"sepal_length\": \"4.4\", \"sepal_width\": \"3.0\", \"petal_length\": \"1.3\", \"petal_width\": \"0.2\", \"class\": \"Iris-setosa\"}, {\"sepal_length\": \"5.1\", \"sepal_width\": \"3.4\", \"petal_length\": \"1.5\", \"petal_width\": \"0.2\", \"class\": \"Iris-setosa\"}, {\"sepal_length\": \"5.0\", \"sepal_width\": \"3.5\", \"petal_length\": \"1.3\", \"petal_width\": \"0.3\", \"class\": \"Iris-setosa\"}, {\"sepal_length\": \"4.5\", \"sepal_width\": \"2.3\", \"petal_length\": \"1.3\", \"petal_width\": \"0.3\", \"class\": \"Iris-setosa\"}, {\"sepal_length\": \"4.4\", \"sepal_width\": \"3.2\", \"petal_length\": \"1.3\", \"petal_width\": \"0.2\", \"class\": \"Iris-setosa\"}, {\"sepal_length\": \"5.0\", \"sepal_width\": \"3.5\", \"petal_length\": \"1.6\", \"petal_width\": \"0.6\", \"class\": \"Iris-setosa\"}, {\"sepal_length\": \"5.1\", \"sepal_width\": \"3.8\", \"petal_length\": \"1.9\", \"petal_width\": \"0.4\", \"class\": \"Iris-setosa\"}, {\"sepal_length\": \"4.8\", \"sepal_width\": \"3.0\", \"petal_length\": \"1.4\", \"petal_width\": \"0.3\", \"class\": \"Iris-setosa\"}, {\"sepal_length\": \"5.1\", \"sepal_width\": \"3.8\", \"petal_length\": \"1.6\", \"petal_width\": \"0.2\", \"class\": \"Iris-setosa\"}, {\"sepal_length\": \"4.6\", \"sepal_width\": \"3.2\", \"petal_length\": \"1.4\", \"petal_width\": \"0.2\", \"class\": \"Iris-setosa\"}, {\"sepal_length\": \"5.3\", \"sepal_width\": \"3.7\", \"petal_length\": \"1.5\", \"petal_width\": \"0.2\", \"class\": \"Iris-setosa\"}, {\"sepal_length\": \"5.0\", \"sepal_width\": \"3.3\", \"petal_length\": \"1.4\", \"petal_width\": \"0.2\", \"class\": \"Iris-setosa\"}, {\"sepal_length\": \"7.0\", \"sepal_width\": \"3.2\", \"petal_length\": \"4.7\", \"petal_width\": \"1.4\", \"class\": \"Iris-versicolor\"}, {\"sepal_length\": \"6.4\", \"sepal_width\": \"3.2\", \"petal_length\": \"4.5\", \"petal_width\": \"1.5\", \"class\": \"Iris-versicolor\"}, {\"sepal_length\": \"6.9\", \"sepal_width\": \"3.1\", \"petal_length\": \"4.9\", \"petal_width\": \"1.5\", \"class\": \"Iris-versicolor\"}, {\"sepal_length\": \"5.5\", \"sepal_width\": \"2.3\", \"petal_length\": \"4.0\", \"petal_width\": \"1.3\", \"class\": \"Iris-versicolor\"}, {\"sepal_length\": \"6.5\", \"sepal_width\": \"2.8\", \"petal_length\": \"4.6\", \"petal_width\": \"1.5\", \"class\": \"Iris-versicolor\"}, {\"sepal_length\": \"5.7\", \"sepal_width\": \"2.8\", \"petal_length\": \"4.5\", \"petal_width\": \"1.3\", \"class\": \"Iris-versicolor\"}, {\"sepal_length\": \"6.3\", \"sepal_width\": \"3.3\", \"petal_length\": \"4.7\", \"petal_width\": \"1.6\", \"class\": \"Iris-versicolor\"}, {\"sepal_length\": \"4.9\", \"sepal_width\": \"2.4\", \"petal_length\": \"3.3\", \"petal_width\": \"1.0\", \"class\": \"Iris-versicolor\"}, {\"sepal_length\": \"6.6\", \"sepal_width\": \"2.9\", \"petal_length\": \"4.6\", \"petal_width\": \"1.3\", \"class\": \"Iris-versicolor\"}, {\"sepal_length\": \"5.2\", \"sepal_width\": \"2.7\", \"petal_length\": \"3.9\", \"petal_width\": \"1.4\", \"class\": \"Iris-versicolor\"}, {\"sepal_length\": \"5.0\", \"sepal_width\": \"2.0\", \"petal_length\": \"3.5\", \"petal_width\": \"1.0\", \"class\": \"Iris-versicolor\"}, {\"sepal_length\": \"5.9\", \"sepal_width\": \"3.0\", \"petal_length\": \"4.2\", \"petal_width\": \"1.5\", \"class\": \"Iris-versicolor\"}, {\"sepal_length\": \"6.0\", \"sepal_width\": \"2.2\", \"petal_length\": \"4.0\", \"petal_width\": \"1.0\", \"class\": \"Iris-versicolor\"}, {\"sepal_length\": \"6.1\", \"sepal_width\": \"2.9\", \"petal_length\": \"4.7\", \"petal_width\": \"1.4\", \"class\": \"Iris-versicolor\"}, {\"sepal_length\": \"5.6\", \"sepal_width\": \"2.9\", \"petal_length\": \"3.6\", \"petal_width\": \"1.3\", \"class\": \"Iris-versicolor\"}, {\"sepal_length\": \"6.7\", \"sepal_width\": \"3.1\", \"petal_length\": \"4.4\", \"petal_width\": \"1.4\", \"class\": \"Iris-versicolor\"}, {\"sepal_length\": \"5.6\", \"sepal_width\": \"3.0\", \"petal_length\": \"4.5\", \"petal_width\": \"1.5\", \"class\": \"Iris-versicolor\"}, {\"sepal_length\": \"5.8\", \"sepal_width\": \"2.7\", \"petal_length\": \"4.1\", \"petal_width\": \"1.0\", \"class\": \"Iris-versicolor\"}, {\"sepal_length\": \"6.2\", \"sepal_width\": \"2.2\", \"petal_length\": \"4.5\", \"petal_width\": \"1.5\", \"class\": \"Iris-versicolor\"}, {\"sepal_length\": \"5.6\", \"sepal_width\": \"2.5\", \"petal_length\": \"3.9\", \"petal_width\": \"1.1\", \"class\": \"Iris-versicolor\"}, {\"sepal_length\": \"5.9\", \"sepal_width\": \"3.2\", \"petal_length\": \"4.8\", \"petal_width\": \"1.8\", \"class\": \"Iris-versicolor\"}, {\"sepal_length\": \"6.1\", \"sepal_width\": \"2.8\", \"petal_length\": \"4.0\", \"petal_width\": \"1.3\", \"class\": \"Iris-versicolor\"}, {\"sepal_length\": \"6.3\", \"sepal_width\": \"2.5\", \"petal_length\": \"4.9\", \"petal_width\": \"1.5\", \"class\": \"Iris-versicolor\"}, {\"sepal_length\": \"6.1\", \"sepal_width\": \"2.8\", \"petal_length\": \"4.7\", \"petal_width\": \"1.2\", \"class\": \"Iris-versicolor\"}, {\"sepal_length\": \"6.4\", \"sepal_width\": \"2.9\", \"petal_length\": \"4.3\", \"petal_width\": \"1.3\", \"class\": \"Iris-versicolor\"}, {\"sepal_length\": \"6.6\", \"sepal_width\": \"3.0\", \"petal_length\": \"4.4\", \"petal_width\": \"1.4\", \"class\": \"Iris-versicolor\"}, {\"sepal_length\": \"6.8\", \"sepal_width\": \"2.8\", \"petal_length\": \"4.8\", \"petal_width\": \"1.4\", \"class\": \"Iris-versicolor\"}, {\"sepal_length\": \"6.7\", \"sepal_width\": \"3.0\", \"petal_length\": \"5.0\", \"petal_width\": \"1.7\", \"class\": \"Iris-versicolor\"}, {\"sepal_length\": \"6.0\", \"sepal_width\": \"2.9\", \"petal_length\": \"4.5\", \"petal_width\": \"1.5\", \"class\": \"Iris-versicolor\"}, {\"sepal_length\": \"5.7\", \"sepal_width\": \"2.6\", \"petal_length\": \"3.5\", \"petal_width\": \"1.0\", \"class\": \"Iris-versicolor\"}, {\"sepal_length\": \"5.5\", \"sepal_width\": \"2.4\", \"petal_length\": \"3.8\", \"petal_width\": \"1.1\", \"class\": \"Iris-versicolor\"}, {\"sepal_length\": \"5.5\", \"sepal_width\": \"2.4\", \"petal_length\": \"3.7\", \"petal_width\": \"1.0\", \"class\": \"Iris-versicolor\"}, {\"sepal_length\": \"5.8\", \"sepal_width\": \"2.7\", \"petal_length\": \"3.9\", \"petal_width\": \"1.2\", \"class\": \"Iris-versicolor\"}, {\"sepal_length\": \"6.0\", \"sepal_width\": \"2.7\", \"petal_length\": \"5.1\", \"petal_width\": \"1.6\", \"class\": \"Iris-versicolor\"}, {\"sepal_length\": \"5.4\", \"sepal_width\": \"3.0\", \"petal_length\": \"4.5\", \"petal_width\": \"1.5\", \"class\": \"Iris-versicolor\"}, {\"sepal_length\": \"6.0\", \"sepal_width\": \"3.4\", \"petal_length\": \"4.5\", \"petal_width\": \"1.6\", \"class\": \"Iris-versicolor\"}, {\"sepal_length\": \"6.7\", \"sepal_width\": \"3.1\", \"petal_length\": \"4.7\", \"petal_width\": \"1.5\", \"class\": \"Iris-versicolor\"}, {\"sepal_length\": \"6.3\", \"sepal_width\": \"2.3\", \"petal_length\": \"4.4\", \"petal_width\": \"1.3\", \"class\": \"Iris-versicolor\"}, {\"sepal_length\": \"5.6\", \"sepal_width\": \"3.0\", \"petal_length\": \"4.1\", \"petal_width\": \"1.3\", \"class\": \"Iris-versicolor\"}, {\"sepal_length\": \"5.5\", \"sepal_width\": \"2.5\", \"petal_length\": \"4.0\", \"petal_width\": \"1.3\", \"class\": \"Iris-versicolor\"}, {\"sepal_length\": \"5.5\", \"sepal_width\": \"2.6\", \"petal_length\": \"4.4\", \"petal_width\": \"1.2\", \"class\": \"Iris-versicolor\"}, {\"sepal_length\": \"6.1\", \"sepal_width\": \"3.0\", \"petal_length\": \"4.6\", \"petal_width\": \"1.4\", \"class\": \"Iris-versicolor\"}, {\"sepal_length\": \"5.8\", \"sepal_width\": \"2.6\", \"petal_length\": \"4.0\", \"petal_width\": \"1.2\", \"class\": \"Iris-versicolor\"}, {\"sepal_length\": \"5.0\", \"sepal_width\": \"2.3\", \"petal_length\": \"3.3\", \"petal_width\": \"1.0\", \"class\": \"Iris-versicolor\"}, {\"sepal_length\": \"5.6\", \"sepal_width\": \"2.7\", \"petal_length\": \"4.2\", \"petal_width\": \"1.3\", \"class\": \"Iris-versicolor\"}, {\"sepal_length\": \"5.7\", \"sepal_width\": \"3.0\", \"petal_length\": \"4.2\", \"petal_width\": \"1.2\", \"class\": \"Iris-versicolor\"}, {\"sepal_length\": \"5.7\", \"sepal_width\": \"2.9\", \"petal_length\": \"4.2\", \"petal_width\": \"1.3\", \"class\": \"Iris-versicolor\"}, {\"sepal_length\": \"6.2\", \"sepal_width\": \"2.9\", \"petal_length\": \"4.3\", \"petal_width\": \"1.3\", \"class\": \"Iris-versicolor\"}, {\"sepal_length\": \"5.1\", \"sepal_width\": \"2.5\", \"petal_length\": \"3.0\", \"petal_width\": \"1.1\", \"class\": \"Iris-versicolor\"}, {\"sepal_length\": \"5.7\", \"sepal_width\": \"2.8\", \"petal_length\": \"4.1\", \"petal_width\": \"1.3\", \"class\": \"Iris-versicolor\"}, {\"sepal_length\": \"6.3\", \"sepal_width\": \"3.3\", \"petal_length\": \"6.0\", \"petal_width\": \"2.5\", \"class\": \"Iris-virginica\"}, {\"sepal_length\": \"5.8\", \"sepal_width\": \"2.7\", \"petal_length\": \"5.1\", \"petal_width\": \"1.9\", \"class\": \"Iris-virginica\"}, {\"sepal_length\": \"7.1\", \"sepal_width\": \"3.0\", \"petal_length\": \"5.9\", \"petal_width\": \"2.1\", \"class\": \"Iris-virginica\"}, {\"sepal_length\": \"6.3\", \"sepal_width\": \"2.9\", \"petal_length\": \"5.6\", \"petal_width\": \"1.8\", \"class\": \"Iris-virginica\"}, {\"sepal_length\": \"6.5\", \"sepal_width\": \"3.0\", \"petal_length\": \"5.8\", \"petal_width\": \"2.2\", \"class\": \"Iris-virginica\"}, {\"sepal_length\": \"7.6\", \"sepal_width\": \"3.0\", \"petal_length\": \"6.6\", \"petal_width\": \"2.1\", \"class\": \"Iris-virginica\"}, {\"sepal_length\": \"4.9\", \"sepal_width\": \"2.5\", \"petal_length\": \"4.5\", \"petal_width\": \"1.7\", \"class\": \"Iris-virginica\"}, {\"sepal_length\": \"7.3\", \"sepal_width\": \"2.9\", \"petal_length\": \"6.3\", \"petal_width\": \"1.8\", \"class\": \"Iris-virginica\"}, {\"sepal_length\": \"6.7\", \"sepal_width\": \"2.5\", \"petal_length\": \"5.8\", \"petal_width\": \"1.8\", \"class\": \"Iris-virginica\"}, {\"sepal_length\": \"7.2\", \"sepal_width\": \"3.6\", \"petal_length\": \"6.1\", \"petal_width\": \"2.5\", \"class\": \"Iris-virginica\"}, {\"sepal_length\": \"6.5\", \"sepal_width\": \"3.2\", \"petal_length\": \"5.1\", \"petal_width\": \"2.0\", \"class\": \"Iris-virginica\"}, {\"sepal_length\": \"6.4\", \"sepal_width\": \"2.7\", \"petal_length\": \"5.3\", \"petal_width\": \"1.9\", \"class\": \"Iris-virginica\"}, {\"sepal_length\": \"6.8\", \"sepal_width\": \"3.0\", \"petal_length\": \"5.5\", \"petal_width\": \"2.1\", \"class\": \"Iris-virginica\"}, {\"sepal_length\": \"5.7\", \"sepal_width\": \"2.5\", \"petal_length\": \"5.0\", \"petal_width\": \"2.0\", \"class\": \"Iris-virginica\"}, {\"sepal_length\": \"5.8\", \"sepal_width\": \"2.8\", \"petal_length\": \"5.1\", \"petal_width\": \"2.4\", \"class\": \"Iris-virginica\"}, {\"sepal_length\": \"6.4\", \"sepal_width\": \"3.2\", \"petal_length\": \"5.3\", \"petal_width\": \"2.3\", \"class\": \"Iris-virginica\"}, {\"sepal_length\": \"6.5\", \"sepal_width\": \"3.0\", \"petal_length\": \"5.5\", \"petal_width\": \"1.8\", \"class\": \"Iris-virginica\"}, {\"sepal_length\": \"7.7\", \"sepal_width\": \"3.8\", \"petal_length\": \"6.7\", \"petal_width\": \"2.2\", \"class\": \"Iris-virginica\"}, {\"sepal_length\": \"7.7\", \"sepal_width\": \"2.6\", \"petal_length\": \"6.9\", \"petal_width\": \"2.3\", \"class\": \"Iris-virginica\"}, {\"sepal_length\": \"6.0\", \"sepal_width\": \"2.2\", \"petal_length\": \"5.0\", \"petal_width\": \"1.5\", \"class\": \"Iris-virginica\"}, {\"sepal_length\": \"6.9\", \"sepal_width\": \"3.2\", \"petal_length\": \"5.7\", \"petal_width\": \"2.3\", \"class\": \"Iris-virginica\"}, {\"sepal_length\": \"5.6\", \"sepal_width\": \"2.8\", \"petal_length\": \"4.9\", \"petal_width\": \"2.0\", \"class\": \"Iris-virginica\"}, {\"sepal_length\": \"7.7\", \"sepal_width\": \"2.8\", \"petal_length\": \"6.7\", \"petal_width\": \"2.0\", \"class\": \"Iris-virginica\"}, {\"sepal_length\": \"6.3\", \"sepal_width\": \"2.7\", \"petal_length\": \"4.9\", \"petal_width\": \"1.8\", \"class\": \"Iris-virginica\"}, {\"sepal_length\": \"6.7\", \"sepal_width\": \"3.3\", \"petal_length\": \"5.7\", \"petal_width\": \"2.1\", \"class\": \"Iris-virginica\"}, {\"sepal_length\": \"7.2\", \"sepal_width\": \"3.2\", \"petal_length\": \"6.0\", \"petal_width\": \"1.8\", \"class\": \"Iris-virginica\"}, {\"sepal_length\": \"6.2\", \"sepal_width\": \"2.8\", \"petal_length\": \"4.8\", \"petal_width\": \"1.8\", \"class\": \"Iris-virginica\"}, {\"sepal_length\": \"6.1\", \"sepal_width\": \"3.0\", \"petal_length\": \"4.9\", \"petal_width\": \"1.8\", \"class\": \"Iris-virginica\"}, {\"sepal_length\": \"6.4\", \"sepal_width\": \"2.8\", \"petal_length\": \"5.6\", \"petal_width\": \"2.1\", \"class\": \"Iris-virginica\"}, {\"sepal_length\": \"7.2\", \"sepal_width\": \"3.0\", \"petal_length\": \"5.8\", \"petal_width\": \"1.6\", \"class\": \"Iris-virginica\"}, {\"sepal_length\": \"7.4\", \"sepal_width\": \"2.8\", \"petal_length\": \"6.1\", \"petal_width\": \"1.9\", \"class\": \"Iris-virginica\"}, {\"sepal_length\": \"7.9\", \"sepal_width\": \"3.8\", \"petal_length\": \"6.4\", \"petal_width\": \"2.0\", \"class\": \"Iris-virginica\"}, {\"sepal_length\": \"6.4\", \"sepal_width\": \"2.8\", \"petal_length\": \"5.6\", \"petal_width\": \"2.2\", \"class\": \"Iris-virginica\"}, {\"sepal_length\": \"6.3\", \"sepal_width\": \"2.8\", \"petal_length\": \"5.1\", \"petal_width\": \"1.5\", \"class\": \"Iris-virginica\"}, {\"sepal_length\": \"6.1\", \"sepal_width\": \"2.6\", \"petal_length\": \"5.6\", \"petal_width\": \"1.4\", \"class\": \"Iris-virginica\"}, {\"sepal_length\": \"7.7\", \"sepal_width\": \"3.0\", \"petal_length\": \"6.1\", \"petal_width\": \"2.3\", \"class\": \"Iris-virginica\"}, {\"sepal_length\": \"6.3\", \"sepal_width\": \"3.4\", \"petal_length\": \"5.6\", \"petal_width\": \"2.4\", \"class\": \"Iris-virginica\"}, {\"sepal_length\": \"6.4\", \"sepal_width\": \"3.1\", \"petal_length\": \"5.5\", \"petal_width\": \"1.8\", \"class\": \"Iris-virginica\"}, {\"sepal_length\": \"6.0\", \"sepal_width\": \"3.0\", \"petal_length\": \"4.8\", \"petal_width\": \"1.8\", \"class\": \"Iris-virginica\"}, {\"sepal_length\": \"6.9\", \"sepal_width\": \"3.1\", \"petal_length\": \"5.4\", \"petal_width\": \"2.1\", \"class\": \"Iris-virginica\"}, {\"sepal_length\": \"6.7\", \"sepal_width\": \"3.1\", \"petal_length\": \"5.6\", \"petal_width\": \"2.4\", \"class\": \"Iris-virginica\"}, {\"sepal_length\": \"6.9\", \"sepal_width\": \"3.1\", \"petal_length\": \"5.1\", \"petal_width\": \"2.3\", \"class\": \"Iris-virginica\"}, {\"sepal_length\": \"5.8\", \"sepal_width\": \"2.7\", \"petal_length\": \"5.1\", \"petal_width\": \"1.9\", \"class\": \"Iris-virginica\"}, {\"sepal_length\": \"6.8\", \"sepal_width\": \"3.2\", \"petal_length\": \"5.9\", \"petal_width\": \"2.3\", \"class\": \"Iris-virginica\"}, {\"sepal_length\": \"6.7\", \"sepal_width\": \"3.3\", \"petal_length\": \"5.7\", \"petal_width\": \"2.5\", \"class\": \"Iris-virginica\"}, {\"sepal_length\": \"6.7\", \"sepal_width\": \"3.0\", \"petal_length\": \"5.2\", \"petal_width\": \"2.3\", \"class\": \"Iris-virginica\"}, {\"sepal_length\": \"6.3\", \"sepal_width\": \"2.5\", \"petal_length\": \"5.0\", \"petal_width\": \"1.9\", \"class\": \"Iris-virginica\"}, {\"sepal_length\": \"6.5\", \"sepal_width\": \"3.0\", \"petal_length\": \"5.2\", \"petal_width\": \"2.0\", \"class\": \"Iris-virginica\"}, {\"sepal_length\": \"6.2\", \"sepal_width\": \"3.4\", \"petal_length\": \"5.4\", \"petal_width\": \"2.3\", \"class\": \"Iris-virginica\"}, {\"sepal_length\": \"5.9\", \"sepal_width\": \"3.0\", \"petal_length\": \"5.1\", \"petal_width\": \"1.8\", \"class\": \"Iris-virginica\"}]}}, {\"mode\": \"vega-lite\"});\n",
       "</script>"
      ],
      "text/plain": [
       "alt.Chart(...)"
      ]
     },
     "execution_count": 66,
     "metadata": {},
     "output_type": "execute_result"
    }
   ],
   "source": [
    "alt.Chart(df).transform_window(\n",
    "    index='count()'\n",
    ").transform_fold(\n",
    "    ['petal_length', 'petal_width', 'sepal_length', 'sepal_width']\n",
    ").mark_line().encode(\n",
    "    x='key:N',\n",
    "    y='value:Q',\n",
    "    color='class:N',\n",
    "    detail='index:N',\n",
    "    opacity=alt.value(0.5)\n",
    ").properties(width=500)"
   ]
  },
  {
   "cell_type": "markdown",
   "id": "d2d472b2",
   "metadata": {},
   "source": [
    "用户滑块选择鸢尾花数据"
   ]
  },
  {
   "cell_type": "code",
   "execution_count": 79,
   "id": "9470200e",
   "metadata": {},
   "outputs": [
    {
     "data": {
      "text/html": [
       "\n",
       "<div id=\"altair-viz-53c9629877834316a163dc285619d147\"></div>\n",
       "<script type=\"text/javascript\">\n",
       "  var VEGA_DEBUG = (typeof VEGA_DEBUG == \"undefined\") ? {} : VEGA_DEBUG;\n",
       "  (function(spec, embedOpt){\n",
       "    let outputDiv = document.currentScript.previousElementSibling;\n",
       "    if (outputDiv.id !== \"altair-viz-53c9629877834316a163dc285619d147\") {\n",
       "      outputDiv = document.getElementById(\"altair-viz-53c9629877834316a163dc285619d147\");\n",
       "    }\n",
       "    const paths = {\n",
       "      \"vega\": \"https://cdn.jsdelivr.net/npm/vega@5?noext\",\n",
       "      \"vega-lib\": \"https://cdn.jsdelivr.net/npm/vega-lib?noext\",\n",
       "      \"vega-lite\": \"https://cdn.jsdelivr.net/npm/vega-lite@5.6.1?noext\",\n",
       "      \"vega-embed\": \"https://cdn.jsdelivr.net/npm/vega-embed@6?noext\",\n",
       "    };\n",
       "\n",
       "    function maybeLoadScript(lib, version) {\n",
       "      var key = `${lib.replace(\"-\", \"\")}_version`;\n",
       "      return (VEGA_DEBUG[key] == version) ?\n",
       "        Promise.resolve(paths[lib]) :\n",
       "        new Promise(function(resolve, reject) {\n",
       "          var s = document.createElement('script');\n",
       "          document.getElementsByTagName(\"head\")[0].appendChild(s);\n",
       "          s.async = true;\n",
       "          s.onload = () => {\n",
       "            VEGA_DEBUG[key] = version;\n",
       "            return resolve(paths[lib]);\n",
       "          };\n",
       "          s.onerror = () => reject(`Error loading script: ${paths[lib]}`);\n",
       "          s.src = paths[lib];\n",
       "        });\n",
       "    }\n",
       "\n",
       "    function showError(err) {\n",
       "      outputDiv.innerHTML = `<div class=\"error\" style=\"color:red;\">${err}</div>`;\n",
       "      throw err;\n",
       "    }\n",
       "\n",
       "    function displayChart(vegaEmbed) {\n",
       "      vegaEmbed(outputDiv, spec, embedOpt)\n",
       "        .catch(err => showError(`Javascript Error: ${err.message}<br>This usually means there's a typo in your chart specification. See the javascript console for the full traceback.`));\n",
       "    }\n",
       "\n",
       "    if(typeof define === \"function\" && define.amd) {\n",
       "      requirejs.config({paths});\n",
       "      require([\"vega-embed\"], displayChart, err => showError(`Error loading script: ${err.message}`));\n",
       "    } else {\n",
       "      maybeLoadScript(\"vega\", \"5\")\n",
       "        .then(() => maybeLoadScript(\"vega-lite\", \"5.6.1\"))\n",
       "        .then(() => maybeLoadScript(\"vega-embed\", \"6\"))\n",
       "        .catch(showError)\n",
       "        .then(() => displayChart(vegaEmbed));\n",
       "    }\n",
       "  })({\"config\": {\"view\": {\"continuousWidth\": 300, \"continuousHeight\": 300}}, \"vconcat\": [{\"hconcat\": [{\"mark\": {\"type\": \"point\"}, \"encoding\": {\"color\": {\"condition\": {\"param\": \"param_86\", \"field\": \"class\", \"type\": \"nominal\"}, \"value\": \"gray\"}, \"tooltip\": [{\"field\": \"petal_length\", \"type\": \"nominal\"}, {\"field\": \"petal_width\", \"type\": \"nominal\"}, {\"field\": \"class\", \"type\": \"nominal\"}], \"x\": {\"field\": \"petal_length\", \"type\": \"nominal\"}, \"y\": {\"field\": \"petal_width\", \"type\": \"nominal\"}}, \"height\": 250, \"name\": \"view_93\", \"width\": 250}, {\"mark\": {\"type\": \"point\"}, \"encoding\": {\"color\": {\"condition\": {\"param\": \"param_86\", \"field\": \"class\", \"type\": \"nominal\"}, \"value\": \"gray\"}, \"tooltip\": [{\"field\": \"petal_length\", \"type\": \"nominal\"}, {\"field\": \"petal_width\", \"type\": \"nominal\"}, {\"field\": \"class\", \"type\": \"nominal\"}], \"x\": {\"field\": \"sepal_length\", \"type\": \"nominal\"}, \"y\": {\"field\": \"sepal_width\", \"type\": \"nominal\"}}, \"height\": 250, \"name\": \"view_94\", \"width\": 250}]}, {\"hconcat\": [{\"mark\": {\"type\": \"bar\", \"size\": 60}, \"encoding\": {\"color\": {\"condition\": {\"param\": \"param_86\", \"value\": \"gray\"}, \"field\": \"class\", \"type\": \"nominal\"}, \"x\": {\"field\": \"class\", \"type\": \"nominal\"}, \"y\": {\"aggregate\": \"count\", \"type\": \"quantitative\"}}, \"height\": 250, \"transform\": [{\"filter\": {\"param\": \"param_86\"}}], \"width\": 250}, {\"mark\": {\"type\": \"line\"}, \"encoding\": {\"color\": {\"condition\": {\"param\": \"param_86\", \"field\": \"class\", \"type\": \"nominal\"}, \"value\": \"gray\"}, \"detail\": {\"field\": \"index\", \"type\": \"nominal\"}, \"opacity\": {\"value\": 0.5}, \"x\": {\"field\": \"key\", \"type\": \"nominal\"}, \"y\": {\"field\": \"value\", \"type\": \"quantitative\"}}, \"height\": 250, \"transform\": [{\"window\": [{\"op\": \"count\", \"as\": \"index\"}]}, {\"fold\": [\"petal_length\", \"petal_width\", \"sepal_length\", \"sepal_width\"]}, {\"filter\": {\"param\": \"param_86\"}}], \"width\": 250}]}], \"data\": {\"name\": \"data-0ca1e83e7928eb3af86a9a5b261ae25d\"}, \"params\": [{\"name\": \"param_86\", \"select\": {\"type\": \"interval\", \"encodings\": [\"x\", \"y\"]}, \"views\": [\"view_93\", \"view_94\"]}, {\"name\": \"param_87\", \"select\": {\"type\": \"interval\", \"encodings\": [\"x\", \"y\"]}, \"bind\": \"scales\", \"views\": [\"view_93\"]}], \"$schema\": \"https://vega.github.io/schema/vega-lite/v5.6.1.json\", \"datasets\": {\"data-0ca1e83e7928eb3af86a9a5b261ae25d\": [{\"sepal_length\": \"5.1\", \"sepal_width\": \"3.5\", \"petal_length\": \"1.4\", \"petal_width\": \"0.2\", \"class\": \"Iris-setosa\"}, {\"sepal_length\": \"4.9\", \"sepal_width\": \"3.0\", \"petal_length\": \"1.4\", \"petal_width\": \"0.2\", \"class\": \"Iris-setosa\"}, {\"sepal_length\": \"4.7\", \"sepal_width\": \"3.2\", \"petal_length\": \"1.3\", \"petal_width\": \"0.2\", \"class\": \"Iris-setosa\"}, {\"sepal_length\": \"4.6\", \"sepal_width\": \"3.1\", \"petal_length\": \"1.5\", \"petal_width\": \"0.2\", \"class\": \"Iris-setosa\"}, {\"sepal_length\": \"5.0\", \"sepal_width\": \"3.6\", \"petal_length\": \"1.4\", \"petal_width\": \"0.2\", \"class\": \"Iris-setosa\"}, {\"sepal_length\": \"5.4\", \"sepal_width\": \"3.9\", \"petal_length\": \"1.7\", \"petal_width\": \"0.4\", \"class\": \"Iris-setosa\"}, {\"sepal_length\": \"4.6\", \"sepal_width\": \"3.4\", \"petal_length\": \"1.4\", \"petal_width\": \"0.3\", \"class\": \"Iris-setosa\"}, {\"sepal_length\": \"5.0\", \"sepal_width\": \"3.4\", \"petal_length\": \"1.5\", \"petal_width\": \"0.2\", \"class\": \"Iris-setosa\"}, {\"sepal_length\": \"4.4\", \"sepal_width\": \"2.9\", \"petal_length\": \"1.4\", \"petal_width\": \"0.2\", \"class\": \"Iris-setosa\"}, {\"sepal_length\": \"4.9\", \"sepal_width\": \"3.1\", \"petal_length\": \"1.5\", \"petal_width\": \"0.1\", \"class\": \"Iris-setosa\"}, {\"sepal_length\": \"5.4\", \"sepal_width\": \"3.7\", \"petal_length\": \"1.5\", \"petal_width\": \"0.2\", \"class\": \"Iris-setosa\"}, {\"sepal_length\": \"4.8\", \"sepal_width\": \"3.4\", \"petal_length\": \"1.6\", \"petal_width\": \"0.2\", \"class\": \"Iris-setosa\"}, {\"sepal_length\": \"4.8\", \"sepal_width\": \"3.0\", \"petal_length\": \"1.4\", \"petal_width\": \"0.1\", \"class\": \"Iris-setosa\"}, {\"sepal_length\": \"4.3\", \"sepal_width\": \"3.0\", \"petal_length\": \"1.1\", \"petal_width\": \"0.1\", \"class\": \"Iris-setosa\"}, {\"sepal_length\": \"5.8\", \"sepal_width\": \"4.0\", \"petal_length\": \"1.2\", \"petal_width\": \"0.2\", \"class\": \"Iris-setosa\"}, {\"sepal_length\": \"5.7\", \"sepal_width\": \"4.4\", \"petal_length\": \"1.5\", \"petal_width\": \"0.4\", \"class\": \"Iris-setosa\"}, {\"sepal_length\": \"5.4\", \"sepal_width\": \"3.9\", \"petal_length\": \"1.3\", \"petal_width\": \"0.4\", \"class\": \"Iris-setosa\"}, {\"sepal_length\": \"5.1\", \"sepal_width\": \"3.5\", \"petal_length\": \"1.4\", \"petal_width\": \"0.3\", \"class\": \"Iris-setosa\"}, {\"sepal_length\": \"5.7\", \"sepal_width\": \"3.8\", \"petal_length\": \"1.7\", \"petal_width\": \"0.3\", \"class\": \"Iris-setosa\"}, {\"sepal_length\": \"5.1\", \"sepal_width\": \"3.8\", \"petal_length\": \"1.5\", \"petal_width\": \"0.3\", \"class\": \"Iris-setosa\"}, {\"sepal_length\": \"5.4\", \"sepal_width\": \"3.4\", \"petal_length\": \"1.7\", \"petal_width\": \"0.2\", \"class\": \"Iris-setosa\"}, {\"sepal_length\": \"5.1\", \"sepal_width\": \"3.7\", \"petal_length\": \"1.5\", \"petal_width\": \"0.4\", \"class\": \"Iris-setosa\"}, {\"sepal_length\": \"4.6\", \"sepal_width\": \"3.6\", \"petal_length\": \"1.0\", \"petal_width\": \"0.2\", \"class\": \"Iris-setosa\"}, {\"sepal_length\": \"5.1\", \"sepal_width\": \"3.3\", \"petal_length\": \"1.7\", \"petal_width\": \"0.5\", \"class\": \"Iris-setosa\"}, {\"sepal_length\": \"4.8\", \"sepal_width\": \"3.4\", \"petal_length\": \"1.9\", \"petal_width\": \"0.2\", \"class\": \"Iris-setosa\"}, {\"sepal_length\": \"5.0\", \"sepal_width\": \"3.0\", \"petal_length\": \"1.6\", \"petal_width\": \"0.2\", \"class\": \"Iris-setosa\"}, {\"sepal_length\": \"5.0\", \"sepal_width\": \"3.4\", \"petal_length\": \"1.6\", \"petal_width\": \"0.4\", \"class\": \"Iris-setosa\"}, {\"sepal_length\": \"5.2\", \"sepal_width\": \"3.5\", \"petal_length\": \"1.5\", \"petal_width\": \"0.2\", \"class\": \"Iris-setosa\"}, {\"sepal_length\": \"5.2\", \"sepal_width\": \"3.4\", \"petal_length\": \"1.4\", \"petal_width\": \"0.2\", \"class\": \"Iris-setosa\"}, {\"sepal_length\": \"4.7\", \"sepal_width\": \"3.2\", \"petal_length\": \"1.6\", \"petal_width\": \"0.2\", \"class\": \"Iris-setosa\"}, {\"sepal_length\": \"4.8\", \"sepal_width\": \"3.1\", \"petal_length\": \"1.6\", \"petal_width\": \"0.2\", \"class\": \"Iris-setosa\"}, {\"sepal_length\": \"5.4\", \"sepal_width\": \"3.4\", \"petal_length\": \"1.5\", \"petal_width\": \"0.4\", \"class\": \"Iris-setosa\"}, {\"sepal_length\": \"5.2\", \"sepal_width\": \"4.1\", \"petal_length\": \"1.5\", \"petal_width\": \"0.1\", \"class\": \"Iris-setosa\"}, {\"sepal_length\": \"5.5\", \"sepal_width\": \"4.2\", \"petal_length\": \"1.4\", \"petal_width\": \"0.2\", \"class\": \"Iris-setosa\"}, {\"sepal_length\": \"4.9\", \"sepal_width\": \"3.1\", \"petal_length\": \"1.5\", \"petal_width\": \"0.1\", \"class\": \"Iris-setosa\"}, {\"sepal_length\": \"5.0\", \"sepal_width\": \"3.2\", \"petal_length\": \"1.2\", \"petal_width\": \"0.2\", \"class\": \"Iris-setosa\"}, {\"sepal_length\": \"5.5\", \"sepal_width\": \"3.5\", \"petal_length\": \"1.3\", \"petal_width\": \"0.2\", \"class\": \"Iris-setosa\"}, {\"sepal_length\": \"4.9\", \"sepal_width\": \"3.1\", \"petal_length\": \"1.5\", \"petal_width\": \"0.1\", \"class\": \"Iris-setosa\"}, {\"sepal_length\": \"4.4\", \"sepal_width\": \"3.0\", \"petal_length\": \"1.3\", \"petal_width\": \"0.2\", \"class\": \"Iris-setosa\"}, {\"sepal_length\": \"5.1\", \"sepal_width\": \"3.4\", \"petal_length\": \"1.5\", \"petal_width\": \"0.2\", \"class\": \"Iris-setosa\"}, {\"sepal_length\": \"5.0\", \"sepal_width\": \"3.5\", \"petal_length\": \"1.3\", \"petal_width\": \"0.3\", \"class\": \"Iris-setosa\"}, {\"sepal_length\": \"4.5\", \"sepal_width\": \"2.3\", \"petal_length\": \"1.3\", \"petal_width\": \"0.3\", \"class\": \"Iris-setosa\"}, {\"sepal_length\": \"4.4\", \"sepal_width\": \"3.2\", \"petal_length\": \"1.3\", \"petal_width\": \"0.2\", \"class\": \"Iris-setosa\"}, {\"sepal_length\": \"5.0\", \"sepal_width\": \"3.5\", \"petal_length\": \"1.6\", \"petal_width\": \"0.6\", \"class\": \"Iris-setosa\"}, {\"sepal_length\": \"5.1\", \"sepal_width\": \"3.8\", \"petal_length\": \"1.9\", \"petal_width\": \"0.4\", \"class\": \"Iris-setosa\"}, {\"sepal_length\": \"4.8\", \"sepal_width\": \"3.0\", \"petal_length\": \"1.4\", \"petal_width\": \"0.3\", \"class\": \"Iris-setosa\"}, {\"sepal_length\": \"5.1\", \"sepal_width\": \"3.8\", \"petal_length\": \"1.6\", \"petal_width\": \"0.2\", \"class\": \"Iris-setosa\"}, {\"sepal_length\": \"4.6\", \"sepal_width\": \"3.2\", \"petal_length\": \"1.4\", \"petal_width\": \"0.2\", \"class\": \"Iris-setosa\"}, {\"sepal_length\": \"5.3\", \"sepal_width\": \"3.7\", \"petal_length\": \"1.5\", \"petal_width\": \"0.2\", \"class\": \"Iris-setosa\"}, {\"sepal_length\": \"5.0\", \"sepal_width\": \"3.3\", \"petal_length\": \"1.4\", \"petal_width\": \"0.2\", \"class\": \"Iris-setosa\"}, {\"sepal_length\": \"7.0\", \"sepal_width\": \"3.2\", \"petal_length\": \"4.7\", \"petal_width\": \"1.4\", \"class\": \"Iris-versicolor\"}, {\"sepal_length\": \"6.4\", \"sepal_width\": \"3.2\", \"petal_length\": \"4.5\", \"petal_width\": \"1.5\", \"class\": \"Iris-versicolor\"}, {\"sepal_length\": \"6.9\", \"sepal_width\": \"3.1\", \"petal_length\": \"4.9\", \"petal_width\": \"1.5\", \"class\": \"Iris-versicolor\"}, {\"sepal_length\": \"5.5\", \"sepal_width\": \"2.3\", \"petal_length\": \"4.0\", \"petal_width\": \"1.3\", \"class\": \"Iris-versicolor\"}, {\"sepal_length\": \"6.5\", \"sepal_width\": \"2.8\", \"petal_length\": \"4.6\", \"petal_width\": \"1.5\", \"class\": \"Iris-versicolor\"}, {\"sepal_length\": \"5.7\", \"sepal_width\": \"2.8\", \"petal_length\": \"4.5\", \"petal_width\": \"1.3\", \"class\": \"Iris-versicolor\"}, {\"sepal_length\": \"6.3\", \"sepal_width\": \"3.3\", \"petal_length\": \"4.7\", \"petal_width\": \"1.6\", \"class\": \"Iris-versicolor\"}, {\"sepal_length\": \"4.9\", \"sepal_width\": \"2.4\", \"petal_length\": \"3.3\", \"petal_width\": \"1.0\", \"class\": \"Iris-versicolor\"}, {\"sepal_length\": \"6.6\", \"sepal_width\": \"2.9\", \"petal_length\": \"4.6\", \"petal_width\": \"1.3\", \"class\": \"Iris-versicolor\"}, {\"sepal_length\": \"5.2\", \"sepal_width\": \"2.7\", \"petal_length\": \"3.9\", \"petal_width\": \"1.4\", \"class\": \"Iris-versicolor\"}, {\"sepal_length\": \"5.0\", \"sepal_width\": \"2.0\", \"petal_length\": \"3.5\", \"petal_width\": \"1.0\", \"class\": \"Iris-versicolor\"}, {\"sepal_length\": \"5.9\", \"sepal_width\": \"3.0\", \"petal_length\": \"4.2\", \"petal_width\": \"1.5\", \"class\": \"Iris-versicolor\"}, {\"sepal_length\": \"6.0\", \"sepal_width\": \"2.2\", \"petal_length\": \"4.0\", \"petal_width\": \"1.0\", \"class\": \"Iris-versicolor\"}, {\"sepal_length\": \"6.1\", \"sepal_width\": \"2.9\", \"petal_length\": \"4.7\", \"petal_width\": \"1.4\", \"class\": \"Iris-versicolor\"}, {\"sepal_length\": \"5.6\", \"sepal_width\": \"2.9\", \"petal_length\": \"3.6\", \"petal_width\": \"1.3\", \"class\": \"Iris-versicolor\"}, {\"sepal_length\": \"6.7\", \"sepal_width\": \"3.1\", \"petal_length\": \"4.4\", \"petal_width\": \"1.4\", \"class\": \"Iris-versicolor\"}, {\"sepal_length\": \"5.6\", \"sepal_width\": \"3.0\", \"petal_length\": \"4.5\", \"petal_width\": \"1.5\", \"class\": \"Iris-versicolor\"}, {\"sepal_length\": \"5.8\", \"sepal_width\": \"2.7\", \"petal_length\": \"4.1\", \"petal_width\": \"1.0\", \"class\": \"Iris-versicolor\"}, {\"sepal_length\": \"6.2\", \"sepal_width\": \"2.2\", \"petal_length\": \"4.5\", \"petal_width\": \"1.5\", \"class\": \"Iris-versicolor\"}, {\"sepal_length\": \"5.6\", \"sepal_width\": \"2.5\", \"petal_length\": \"3.9\", \"petal_width\": \"1.1\", \"class\": \"Iris-versicolor\"}, {\"sepal_length\": \"5.9\", \"sepal_width\": \"3.2\", \"petal_length\": \"4.8\", \"petal_width\": \"1.8\", \"class\": \"Iris-versicolor\"}, {\"sepal_length\": \"6.1\", \"sepal_width\": \"2.8\", \"petal_length\": \"4.0\", \"petal_width\": \"1.3\", \"class\": \"Iris-versicolor\"}, {\"sepal_length\": \"6.3\", \"sepal_width\": \"2.5\", \"petal_length\": \"4.9\", \"petal_width\": \"1.5\", \"class\": \"Iris-versicolor\"}, {\"sepal_length\": \"6.1\", \"sepal_width\": \"2.8\", \"petal_length\": \"4.7\", \"petal_width\": \"1.2\", \"class\": \"Iris-versicolor\"}, {\"sepal_length\": \"6.4\", \"sepal_width\": \"2.9\", \"petal_length\": \"4.3\", \"petal_width\": \"1.3\", \"class\": \"Iris-versicolor\"}, {\"sepal_length\": \"6.6\", \"sepal_width\": \"3.0\", \"petal_length\": \"4.4\", \"petal_width\": \"1.4\", \"class\": \"Iris-versicolor\"}, {\"sepal_length\": \"6.8\", \"sepal_width\": \"2.8\", \"petal_length\": \"4.8\", \"petal_width\": \"1.4\", \"class\": \"Iris-versicolor\"}, {\"sepal_length\": \"6.7\", \"sepal_width\": \"3.0\", \"petal_length\": \"5.0\", \"petal_width\": \"1.7\", \"class\": \"Iris-versicolor\"}, {\"sepal_length\": \"6.0\", \"sepal_width\": \"2.9\", \"petal_length\": \"4.5\", \"petal_width\": \"1.5\", \"class\": \"Iris-versicolor\"}, {\"sepal_length\": \"5.7\", \"sepal_width\": \"2.6\", \"petal_length\": \"3.5\", \"petal_width\": \"1.0\", \"class\": \"Iris-versicolor\"}, {\"sepal_length\": \"5.5\", \"sepal_width\": \"2.4\", \"petal_length\": \"3.8\", \"petal_width\": \"1.1\", \"class\": \"Iris-versicolor\"}, {\"sepal_length\": \"5.5\", \"sepal_width\": \"2.4\", \"petal_length\": \"3.7\", \"petal_width\": \"1.0\", \"class\": \"Iris-versicolor\"}, {\"sepal_length\": \"5.8\", \"sepal_width\": \"2.7\", \"petal_length\": \"3.9\", \"petal_width\": \"1.2\", \"class\": \"Iris-versicolor\"}, {\"sepal_length\": \"6.0\", \"sepal_width\": \"2.7\", \"petal_length\": \"5.1\", \"petal_width\": \"1.6\", \"class\": \"Iris-versicolor\"}, {\"sepal_length\": \"5.4\", \"sepal_width\": \"3.0\", \"petal_length\": \"4.5\", \"petal_width\": \"1.5\", \"class\": \"Iris-versicolor\"}, {\"sepal_length\": \"6.0\", \"sepal_width\": \"3.4\", \"petal_length\": \"4.5\", \"petal_width\": \"1.6\", \"class\": \"Iris-versicolor\"}, {\"sepal_length\": \"6.7\", \"sepal_width\": \"3.1\", \"petal_length\": \"4.7\", \"petal_width\": \"1.5\", \"class\": \"Iris-versicolor\"}, {\"sepal_length\": \"6.3\", \"sepal_width\": \"2.3\", \"petal_length\": \"4.4\", \"petal_width\": \"1.3\", \"class\": \"Iris-versicolor\"}, {\"sepal_length\": \"5.6\", \"sepal_width\": \"3.0\", \"petal_length\": \"4.1\", \"petal_width\": \"1.3\", \"class\": \"Iris-versicolor\"}, {\"sepal_length\": \"5.5\", \"sepal_width\": \"2.5\", \"petal_length\": \"4.0\", \"petal_width\": \"1.3\", \"class\": \"Iris-versicolor\"}, {\"sepal_length\": \"5.5\", \"sepal_width\": \"2.6\", \"petal_length\": \"4.4\", \"petal_width\": \"1.2\", \"class\": \"Iris-versicolor\"}, {\"sepal_length\": \"6.1\", \"sepal_width\": \"3.0\", \"petal_length\": \"4.6\", \"petal_width\": \"1.4\", \"class\": \"Iris-versicolor\"}, {\"sepal_length\": \"5.8\", \"sepal_width\": \"2.6\", \"petal_length\": \"4.0\", \"petal_width\": \"1.2\", \"class\": \"Iris-versicolor\"}, {\"sepal_length\": \"5.0\", \"sepal_width\": \"2.3\", \"petal_length\": \"3.3\", \"petal_width\": \"1.0\", \"class\": \"Iris-versicolor\"}, {\"sepal_length\": \"5.6\", \"sepal_width\": \"2.7\", \"petal_length\": \"4.2\", \"petal_width\": \"1.3\", \"class\": \"Iris-versicolor\"}, {\"sepal_length\": \"5.7\", \"sepal_width\": \"3.0\", \"petal_length\": \"4.2\", \"petal_width\": \"1.2\", \"class\": \"Iris-versicolor\"}, {\"sepal_length\": \"5.7\", \"sepal_width\": \"2.9\", \"petal_length\": \"4.2\", \"petal_width\": \"1.3\", \"class\": \"Iris-versicolor\"}, {\"sepal_length\": \"6.2\", \"sepal_width\": \"2.9\", \"petal_length\": \"4.3\", \"petal_width\": \"1.3\", \"class\": \"Iris-versicolor\"}, {\"sepal_length\": \"5.1\", \"sepal_width\": \"2.5\", \"petal_length\": \"3.0\", \"petal_width\": \"1.1\", \"class\": \"Iris-versicolor\"}, {\"sepal_length\": \"5.7\", \"sepal_width\": \"2.8\", \"petal_length\": \"4.1\", \"petal_width\": \"1.3\", \"class\": \"Iris-versicolor\"}, {\"sepal_length\": \"6.3\", \"sepal_width\": \"3.3\", \"petal_length\": \"6.0\", \"petal_width\": \"2.5\", \"class\": \"Iris-virginica\"}, {\"sepal_length\": \"5.8\", \"sepal_width\": \"2.7\", \"petal_length\": \"5.1\", \"petal_width\": \"1.9\", \"class\": \"Iris-virginica\"}, {\"sepal_length\": \"7.1\", \"sepal_width\": \"3.0\", \"petal_length\": \"5.9\", \"petal_width\": \"2.1\", \"class\": \"Iris-virginica\"}, {\"sepal_length\": \"6.3\", \"sepal_width\": \"2.9\", \"petal_length\": \"5.6\", \"petal_width\": \"1.8\", \"class\": \"Iris-virginica\"}, {\"sepal_length\": \"6.5\", \"sepal_width\": \"3.0\", \"petal_length\": \"5.8\", \"petal_width\": \"2.2\", \"class\": \"Iris-virginica\"}, {\"sepal_length\": \"7.6\", \"sepal_width\": \"3.0\", \"petal_length\": \"6.6\", \"petal_width\": \"2.1\", \"class\": \"Iris-virginica\"}, {\"sepal_length\": \"4.9\", \"sepal_width\": \"2.5\", \"petal_length\": \"4.5\", \"petal_width\": \"1.7\", \"class\": \"Iris-virginica\"}, {\"sepal_length\": \"7.3\", \"sepal_width\": \"2.9\", \"petal_length\": \"6.3\", \"petal_width\": \"1.8\", \"class\": \"Iris-virginica\"}, {\"sepal_length\": \"6.7\", \"sepal_width\": \"2.5\", \"petal_length\": \"5.8\", \"petal_width\": \"1.8\", \"class\": \"Iris-virginica\"}, {\"sepal_length\": \"7.2\", \"sepal_width\": \"3.6\", \"petal_length\": \"6.1\", \"petal_width\": \"2.5\", \"class\": \"Iris-virginica\"}, {\"sepal_length\": \"6.5\", \"sepal_width\": \"3.2\", \"petal_length\": \"5.1\", \"petal_width\": \"2.0\", \"class\": \"Iris-virginica\"}, {\"sepal_length\": \"6.4\", \"sepal_width\": \"2.7\", \"petal_length\": \"5.3\", \"petal_width\": \"1.9\", \"class\": \"Iris-virginica\"}, {\"sepal_length\": \"6.8\", \"sepal_width\": \"3.0\", \"petal_length\": \"5.5\", \"petal_width\": \"2.1\", \"class\": \"Iris-virginica\"}, {\"sepal_length\": \"5.7\", \"sepal_width\": \"2.5\", \"petal_length\": \"5.0\", \"petal_width\": \"2.0\", \"class\": \"Iris-virginica\"}, {\"sepal_length\": \"5.8\", \"sepal_width\": \"2.8\", \"petal_length\": \"5.1\", \"petal_width\": \"2.4\", \"class\": \"Iris-virginica\"}, {\"sepal_length\": \"6.4\", \"sepal_width\": \"3.2\", \"petal_length\": \"5.3\", \"petal_width\": \"2.3\", \"class\": \"Iris-virginica\"}, {\"sepal_length\": \"6.5\", \"sepal_width\": \"3.0\", \"petal_length\": \"5.5\", \"petal_width\": \"1.8\", \"class\": \"Iris-virginica\"}, {\"sepal_length\": \"7.7\", \"sepal_width\": \"3.8\", \"petal_length\": \"6.7\", \"petal_width\": \"2.2\", \"class\": \"Iris-virginica\"}, {\"sepal_length\": \"7.7\", \"sepal_width\": \"2.6\", \"petal_length\": \"6.9\", \"petal_width\": \"2.3\", \"class\": \"Iris-virginica\"}, {\"sepal_length\": \"6.0\", \"sepal_width\": \"2.2\", \"petal_length\": \"5.0\", \"petal_width\": \"1.5\", \"class\": \"Iris-virginica\"}, {\"sepal_length\": \"6.9\", \"sepal_width\": \"3.2\", \"petal_length\": \"5.7\", \"petal_width\": \"2.3\", \"class\": \"Iris-virginica\"}, {\"sepal_length\": \"5.6\", \"sepal_width\": \"2.8\", \"petal_length\": \"4.9\", \"petal_width\": \"2.0\", \"class\": \"Iris-virginica\"}, {\"sepal_length\": \"7.7\", \"sepal_width\": \"2.8\", \"petal_length\": \"6.7\", \"petal_width\": \"2.0\", \"class\": \"Iris-virginica\"}, {\"sepal_length\": \"6.3\", \"sepal_width\": \"2.7\", \"petal_length\": \"4.9\", \"petal_width\": \"1.8\", \"class\": \"Iris-virginica\"}, {\"sepal_length\": \"6.7\", \"sepal_width\": \"3.3\", \"petal_length\": \"5.7\", \"petal_width\": \"2.1\", \"class\": \"Iris-virginica\"}, {\"sepal_length\": \"7.2\", \"sepal_width\": \"3.2\", \"petal_length\": \"6.0\", \"petal_width\": \"1.8\", \"class\": \"Iris-virginica\"}, {\"sepal_length\": \"6.2\", \"sepal_width\": \"2.8\", \"petal_length\": \"4.8\", \"petal_width\": \"1.8\", \"class\": \"Iris-virginica\"}, {\"sepal_length\": \"6.1\", \"sepal_width\": \"3.0\", \"petal_length\": \"4.9\", \"petal_width\": \"1.8\", \"class\": \"Iris-virginica\"}, {\"sepal_length\": \"6.4\", \"sepal_width\": \"2.8\", \"petal_length\": \"5.6\", \"petal_width\": \"2.1\", \"class\": \"Iris-virginica\"}, {\"sepal_length\": \"7.2\", \"sepal_width\": \"3.0\", \"petal_length\": \"5.8\", \"petal_width\": \"1.6\", \"class\": \"Iris-virginica\"}, {\"sepal_length\": \"7.4\", \"sepal_width\": \"2.8\", \"petal_length\": \"6.1\", \"petal_width\": \"1.9\", \"class\": \"Iris-virginica\"}, {\"sepal_length\": \"7.9\", \"sepal_width\": \"3.8\", \"petal_length\": \"6.4\", \"petal_width\": \"2.0\", \"class\": \"Iris-virginica\"}, {\"sepal_length\": \"6.4\", \"sepal_width\": \"2.8\", \"petal_length\": \"5.6\", \"petal_width\": \"2.2\", \"class\": \"Iris-virginica\"}, {\"sepal_length\": \"6.3\", \"sepal_width\": \"2.8\", \"petal_length\": \"5.1\", \"petal_width\": \"1.5\", \"class\": \"Iris-virginica\"}, {\"sepal_length\": \"6.1\", \"sepal_width\": \"2.6\", \"petal_length\": \"5.6\", \"petal_width\": \"1.4\", \"class\": \"Iris-virginica\"}, {\"sepal_length\": \"7.7\", \"sepal_width\": \"3.0\", \"petal_length\": \"6.1\", \"petal_width\": \"2.3\", \"class\": \"Iris-virginica\"}, {\"sepal_length\": \"6.3\", \"sepal_width\": \"3.4\", \"petal_length\": \"5.6\", \"petal_width\": \"2.4\", \"class\": \"Iris-virginica\"}, {\"sepal_length\": \"6.4\", \"sepal_width\": \"3.1\", \"petal_length\": \"5.5\", \"petal_width\": \"1.8\", \"class\": \"Iris-virginica\"}, {\"sepal_length\": \"6.0\", \"sepal_width\": \"3.0\", \"petal_length\": \"4.8\", \"petal_width\": \"1.8\", \"class\": \"Iris-virginica\"}, {\"sepal_length\": \"6.9\", \"sepal_width\": \"3.1\", \"petal_length\": \"5.4\", \"petal_width\": \"2.1\", \"class\": \"Iris-virginica\"}, {\"sepal_length\": \"6.7\", \"sepal_width\": \"3.1\", \"petal_length\": \"5.6\", \"petal_width\": \"2.4\", \"class\": \"Iris-virginica\"}, {\"sepal_length\": \"6.9\", \"sepal_width\": \"3.1\", \"petal_length\": \"5.1\", \"petal_width\": \"2.3\", \"class\": \"Iris-virginica\"}, {\"sepal_length\": \"5.8\", \"sepal_width\": \"2.7\", \"petal_length\": \"5.1\", \"petal_width\": \"1.9\", \"class\": \"Iris-virginica\"}, {\"sepal_length\": \"6.8\", \"sepal_width\": \"3.2\", \"petal_length\": \"5.9\", \"petal_width\": \"2.3\", \"class\": \"Iris-virginica\"}, {\"sepal_length\": \"6.7\", \"sepal_width\": \"3.3\", \"petal_length\": \"5.7\", \"petal_width\": \"2.5\", \"class\": \"Iris-virginica\"}, {\"sepal_length\": \"6.7\", \"sepal_width\": \"3.0\", \"petal_length\": \"5.2\", \"petal_width\": \"2.3\", \"class\": \"Iris-virginica\"}, {\"sepal_length\": \"6.3\", \"sepal_width\": \"2.5\", \"petal_length\": \"5.0\", \"petal_width\": \"1.9\", \"class\": \"Iris-virginica\"}, {\"sepal_length\": \"6.5\", \"sepal_width\": \"3.0\", \"petal_length\": \"5.2\", \"petal_width\": \"2.0\", \"class\": \"Iris-virginica\"}, {\"sepal_length\": \"6.2\", \"sepal_width\": \"3.4\", \"petal_length\": \"5.4\", \"petal_width\": \"2.3\", \"class\": \"Iris-virginica\"}, {\"sepal_length\": \"5.9\", \"sepal_width\": \"3.0\", \"petal_length\": \"5.1\", \"petal_width\": \"1.8\", \"class\": \"Iris-virginica\"}]}}, {\"mode\": \"vega-lite\"});\n",
       "</script>"
      ],
      "text/plain": [
       "alt.VConcatChart(...)"
      ]
     },
     "execution_count": 79,
     "metadata": {},
     "output_type": "execute_result"
    }
   ],
   "source": [
    "from vega_datasets import data\n",
    "\n",
    "brush = alt.selection_interval(encodings=[\"x\",\"y\"])\n",
    "\n",
    "base1 = alt.Chart(df).mark_point().encode(\n",
    "    x='petal_length',\n",
    "    y='petal_width',\n",
    "    color=alt.condition(brush, 'class', alt.ColorValue('gray')),\n",
    "    tooltip=['petal_length','petal_width','class'],\n",
    ").add_params(\n",
    "    brush\n",
    ").properties(\n",
    "    width=250,\n",
    "    height=250\n",
    ").interactive()\n",
    "\n",
    "base2 = alt.Chart(df).mark_point().encode(\n",
    "    x='sepal_length',\n",
    "    y='sepal_width',\n",
    "    color=alt.condition(brush, 'class', alt.ColorValue('gray')),\n",
    "    tooltip=['petal_length','petal_width','class'],\n",
    ").add_params(\n",
    "    brush\n",
    ").properties(\n",
    "    width=250,\n",
    "    height=250\n",
    ")\n",
    "\n",
    "base3 = alt.Chart(df).mark_bar(size = 60).encode(\n",
    "    x='class:N',\n",
    "    y=\"count()\",\n",
    "    color=alt.condition(brush,alt.ColorValue('gray'),'class'),\n",
    "#     tooltip=['Count()','class']\n",
    ").properties(\n",
    "    width=250,\n",
    "    height=250\n",
    ").transform_filter(brush)\n",
    "\n",
    "base4 = alt.Chart(df).transform_window(\n",
    "    index='count()'\n",
    ").transform_fold(\n",
    "    ['petal_length', 'petal_width', 'sepal_length', 'sepal_width']\n",
    ").mark_line().encode(\n",
    "    x='key:N',\n",
    "    y='value:Q',\n",
    "    color=alt.condition(brush,'class',alt.ColorValue('gray')),\n",
    "    detail='index:N',\n",
    "    opacity=alt.value(0.5)\n",
    ").properties(\n",
    "    width=250,\n",
    "    height=250\n",
    ").transform_filter(brush)\n",
    "\n",
    "alt.vconcat(\n",
    "    base1 | base2,\n",
    "    base3 | base4,\n",
    "    \n",
    ")\n"
   ]
  },
  {
   "cell_type": "markdown",
   "id": "9d17f712",
   "metadata": {},
   "source": [
    "下拉框选取不同的聚类方式"
   ]
  },
  {
   "cell_type": "code",
   "execution_count": null,
   "id": "1415cbcd",
   "metadata": {},
   "outputs": [],
   "source": []
  }
 ],
 "metadata": {
  "kernelspec": {
   "display_name": "DataMining",
   "language": "python",
   "name": "datamining"
  },
  "language_info": {
   "codemirror_mode": {
    "name": "ipython",
    "version": 3
   },
   "file_extension": ".py",
   "mimetype": "text/x-python",
   "name": "python",
   "nbconvert_exporter": "python",
   "pygments_lexer": "ipython3",
   "version": "3.8.11"
  }
 },
 "nbformat": 4,
 "nbformat_minor": 5
}
